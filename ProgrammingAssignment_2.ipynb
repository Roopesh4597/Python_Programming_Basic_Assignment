{
 "cells": [
  {
   "cell_type": "markdown",
   "id": "79bf7279",
   "metadata": {},
   "source": [
    "### 1.Write a Python program to convert kilometers to miles?"
   ]
  },
  {
   "cell_type": "code",
   "execution_count": null,
   "id": "af029f64",
   "metadata": {},
   "outputs": [],
   "source": [
    "#Converting kilometers to miles\n",
    "a = float(input(\"Enter number of kilometers \"))\n",
    "a = a * 0.621371\n",
    "print(a)"
   ]
  },
  {
   "cell_type": "markdown",
   "id": "1b358de0",
   "metadata": {},
   "source": [
    "### 2.Write a Python program to convert Celsius to Fahrenheit?"
   ]
  },
  {
   "cell_type": "code",
   "execution_count": 1,
   "id": "ab57811c",
   "metadata": {},
   "outputs": [
    {
     "name": "stdout",
     "output_type": "stream",
     "text": [
      "Enter temperature in celsius 34\n"
     ]
    },
    {
     "data": {
      "text/plain": [
       "50.888888888888886"
      ]
     },
     "execution_count": 1,
     "metadata": {},
     "output_type": "execute_result"
    }
   ],
   "source": [
    "a =float(input(\"Enter temperature in celsius \"))\n",
    "a = a*(5/9) +32\n",
    "a"
   ]
  },
  {
   "cell_type": "markdown",
   "id": "20ce9084",
   "metadata": {},
   "source": [
    "### 3.Write a Python program to display calendar?"
   ]
  },
  {
   "cell_type": "code",
   "execution_count": 2,
   "id": "11fd0a8a",
   "metadata": {},
   "outputs": [
    {
     "name": "stdout",
     "output_type": "stream",
     "text": [
      "Enter the year 2022\n",
      "Enter the month 2\n",
      "   February 2022\n",
      "Mo Tu We Th Fr Sa Su\n",
      "    1  2  3  4  5  6\n",
      " 7  8  9 10 11 12 13\n",
      "14 15 16 17 18 19 20\n",
      "21 22 23 24 25 26 27\n",
      "28\n",
      "\n"
     ]
    }
   ],
   "source": [
    "import calendar\n",
    "\n",
    "yy = int(input(\"Enter the year \"))\n",
    "mm = int(input(\"Enter the month \"))\n",
    "\n",
    "print(calendar.month(yy,mm))"
   ]
  },
  {
   "cell_type": "markdown",
   "id": "ff8e12f8",
   "metadata": {},
   "source": [
    "### 4.Write a Python program to solve quadratic equation?"
   ]
  },
  {
   "cell_type": "code",
   "execution_count": 4,
   "id": "fb7b6f54",
   "metadata": {},
   "outputs": [
    {
     "name": "stdout",
     "output_type": "stream",
     "text": [
      "enter the value of a 5\n",
      "enter the value of b 3\n",
      "enter the value fo a constant 2\n",
      "The solutions are (-0.3+0.5567764362830021j) and (-0.3-0.5567764362830021j)\n"
     ]
    }
   ],
   "source": [
    "import cmath\n",
    "a = float(input(\"enter the value of a \"))\n",
    "b = float(input(\"enter the value of b \"))\n",
    "c = float(input(\"enter the value fo a constant \"))\n",
    "\n",
    "#quadratic = -b + or - sqrt(b^2-4*a*c)/2*a\n",
    "d = ((b**2)-(4*a*c))\n",
    "sol1 = (-b + cmath.sqrt(d))/(2*a)\n",
    "sol2 = (-b - cmath.sqrt(d))/(2*a)\n",
    "print(\"The solutions are {} and {}\".format(sol1,sol2))"
   ]
  },
  {
   "cell_type": "markdown",
   "id": "c7940214",
   "metadata": {},
   "source": [
    "### 5.Write a Python program to swap two variables without temp variable?"
   ]
  },
  {
   "cell_type": "code",
   "execution_count": 8,
   "id": "63c9e7d7",
   "metadata": {},
   "outputs": [
    {
     "name": "stdout",
     "output_type": "stream",
     "text": [
      "Enter a number a 10\n",
      "Enter a number b 23\n",
      "The original number 10 and 23 are \n",
      "The swapped numbers are 23 and 10\n"
     ]
    }
   ],
   "source": [
    "a = int(input(\"Enter a number a \"))\n",
    "b = int(input(\"Enter a number b \"))\n",
    "print(\"The original number {} and {} are \".format(a,b))\n",
    "a = a^b\n",
    "b = a^b\n",
    "a = a^b\n",
    "print(\"The swapped numbers are {} and {}\".format(a,b))\n"
   ]
  },
  {
   "cell_type": "code",
   "execution_count": null,
   "id": "acf79d56",
   "metadata": {},
   "outputs": [],
   "source": []
  }
 ],
 "metadata": {
  "kernelspec": {
   "display_name": "Python 3 (ipykernel)",
   "language": "python",
   "name": "python3"
  },
  "language_info": {
   "codemirror_mode": {
    "name": "ipython",
    "version": 3
   },
   "file_extension": ".py",
   "mimetype": "text/x-python",
   "name": "python",
   "nbconvert_exporter": "python",
   "pygments_lexer": "ipython3",
   "version": "3.8.10"
  }
 },
 "nbformat": 4,
 "nbformat_minor": 5
}
