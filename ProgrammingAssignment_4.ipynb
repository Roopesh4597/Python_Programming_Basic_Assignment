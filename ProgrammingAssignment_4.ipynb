{
 "cells": [
  {
   "cell_type": "markdown",
   "id": "94060a4e",
   "metadata": {},
   "source": [
    "### 1.Write a Python Program to Find the Factorial of a Number?"
   ]
  },
  {
   "cell_type": "code",
   "execution_count": 2,
   "id": "86de99d5",
   "metadata": {},
   "outputs": [
    {
     "name": "stdout",
     "output_type": "stream",
     "text": [
      "Enter a number: 4\n",
      "24\n"
     ]
    }
   ],
   "source": [
    "a = int(input(\"Enter a number: \"))\n",
    "fact=1\n",
    "for i in range(1,a+1):\n",
    "    fact = fact*i\n",
    "print(fact)\n",
    "    "
   ]
  },
  {
   "cell_type": "markdown",
   "id": "8d04eec8",
   "metadata": {},
   "source": [
    "### 2.Write a Python Program to Display the multiplication Table?"
   ]
  },
  {
   "cell_type": "code",
   "execution_count": 3,
   "id": "8133efd8",
   "metadata": {},
   "outputs": [
    {
     "name": "stdout",
     "output_type": "stream",
     "text": [
      "Enter a number 2\n",
      "2 * 1 = 2\n",
      "2 * 2 = 4\n",
      "2 * 3 = 6\n",
      "2 * 4 = 8\n",
      "2 * 5 = 10\n",
      "2 * 6 = 12\n",
      "2 * 7 = 14\n",
      "2 * 8 = 16\n",
      "2 * 9 = 18\n",
      "2 * 10 = 20\n"
     ]
    }
   ],
   "source": [
    "a = int(input(\"Enter a number \"))\n",
    "for i in range(1,11):\n",
    "    b = a * i\n",
    "    print(\"{} * {} = {}\".format(a,i,a*i))"
   ]
  },
  {
   "cell_type": "markdown",
   "id": "bbfae6b7",
   "metadata": {},
   "source": [
    "### 3.Write a Python Program to Print the Fibonacci sequence?"
   ]
  },
  {
   "cell_type": "code",
   "execution_count": 23,
   "id": "9cf729e5",
   "metadata": {},
   "outputs": [
    {
     "name": "stdout",
     "output_type": "stream",
     "text": [
      "Enter a number 10\n",
      "(0, 1)\n",
      "(1, 1)\n",
      "(2, 2)\n",
      "(3, 3)\n",
      "(4, 5)\n",
      "(5, 8)\n",
      "(6, 13)\n",
      "(7, 21)\n",
      "(8, 34)\n",
      "(9, 55)\n"
     ]
    }
   ],
   "source": [
    "n = int(input(\"Enter a number \"))\n",
    "def fib(n):\n",
    "    a=1\n",
    "    b=1\n",
    "    for i in range(n):\n",
    "        yield i,a\n",
    "        a,b=b,a+b\n",
    "for i in fib(n):\n",
    "    print(i)\n",
    "    "
   ]
  },
  {
   "cell_type": "code",
   "execution_count": null,
   "id": "215b6473",
   "metadata": {},
   "outputs": [],
   "source": []
  },
  {
   "cell_type": "markdown",
   "id": "9160a672",
   "metadata": {},
   "source": [
    "### 4.Write a Python Program to Check Armstrong Number?"
   ]
  },
  {
   "cell_type": "code",
   "execution_count": 1,
   "id": "bbeeddfe",
   "metadata": {},
   "outputs": [
    {
     "name": "stdout",
     "output_type": "stream",
     "text": [
      "Enter a number 123\n",
      "not a armstrong number\n"
     ]
    }
   ],
   "source": [
    "num = int(input(\"Enter a number \"))\n",
    "sum =0\n",
    "temp = num\n",
    "while(temp>0):\n",
    "    r = temp%10\n",
    "    sum += r ** 3\n",
    "    temp //=10\n",
    "if num==sum:\n",
    "    print(\"armstrong number\")\n",
    "else:\n",
    "    print(\"not a armstrong number\")\n",
    "    \n",
    "    "
   ]
  },
  {
   "cell_type": "markdown",
   "id": "957b379c",
   "metadata": {},
   "source": [
    "### 5.Write a Python Program to Find the Sum of Natural Numbers?\n"
   ]
  },
  {
   "cell_type": "code",
   "execution_count": 4,
   "id": "018da8ab",
   "metadata": {},
   "outputs": [
    {
     "name": "stdout",
     "output_type": "stream",
     "text": [
      "Enter a positive number 10\n",
      "sum of natural numbers 55 \n"
     ]
    }
   ],
   "source": [
    "a = int(input(\"Enter a positive number \"))\n",
    "sum=0\n",
    "if a<1:\n",
    "    print(\"Please enter a number greater than or equal to 1\")\n",
    "else:\n",
    "    while(a>0):\n",
    "        sum+=a\n",
    "        a-=1\n",
    "    print(\"sum of natural numbers {} \".format(sum))\n",
    "\n",
    "\n",
    "        "
   ]
  },
  {
   "cell_type": "code",
   "execution_count": null,
   "id": "2fec9bcf",
   "metadata": {},
   "outputs": [],
   "source": []
  }
 ],
 "metadata": {
  "kernelspec": {
   "display_name": "Python 3 (ipykernel)",
   "language": "python",
   "name": "python3"
  },
  "language_info": {
   "codemirror_mode": {
    "name": "ipython",
    "version": 3
   },
   "file_extension": ".py",
   "mimetype": "text/x-python",
   "name": "python",
   "nbconvert_exporter": "python",
   "pygments_lexer": "ipython3",
   "version": "3.8.10"
  }
 },
 "nbformat": 4,
 "nbformat_minor": 5
}
